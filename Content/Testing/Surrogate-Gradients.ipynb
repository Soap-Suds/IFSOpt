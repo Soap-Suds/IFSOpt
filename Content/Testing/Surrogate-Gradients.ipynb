{
 "cells": [
  {
   "cell_type": "code",
   "execution_count": 1,
   "id": "25540ec3",
   "metadata": {},
   "outputs": [],
   "source": [
    "import sys\n",
    "sys.path.insert(0, '../../Sinkhorn/src')\n",
    "\n",
    "import jax\n",
    "import jax.numpy as jnp\n",
    "from ifst import Grid, LinearProblem, Sinkhorn\n",
    "import functools\n",
    "\n",
    "# Set random seed\n",
    "key = jax.random.PRNGKey(42)"
   ]
  },
  {
   "cell_type": "code",
   "execution_count": 2,
   "id": "mo4nq0as0ei",
   "metadata": {},
   "outputs": [
    {
     "name": "stdout",
     "output_type": "stream",
     "text": [
      "Brenier potential computed!\n",
      "Shape: (1048576,)\n",
      "Converged: True\n",
      "Sinkhorn distance: 0.332439\n"
     ]
    }
   ],
   "source": [
    "# Create two 1024x1024 images\n",
    "size = 1024\n",
    "\n",
    "# Create coordinate grid\n",
    "x = jnp.linspace(0, 1, size)\n",
    "y = jnp.linspace(0, 1, size)\n",
    "X, Y = jnp.meshgrid(x, y)\n",
    "\n",
    "# Image 1: Gaussian centered at (0.3, 0.3)\n",
    "image1 = jnp.exp(-100 * ((X - 0.3)**2 + (Y - 0.3)**2))\n",
    "\n",
    "# Image 2: Gaussian centered at (0.7, 0.7)\n",
    "image2 = jnp.exp(-100 * ((X - 0.7)**2 + (Y - 0.7)**2))\n",
    "\n",
    "# Normalize to probability distributions\n",
    "image1 = image1 / jnp.sum(image1)\n",
    "image2 = image2 / jnp.sum(image2)\n",
    "\n",
    "# Flatten the images\n",
    "a = image1.ravel()\n",
    "b = image2.ravel()\n",
    "\n",
    "# Create Grid geometry\n",
    "grid_geom = Grid(\n",
    "    grid_size=(size, size),\n",
    "    epsilon=0.01,  # Regularization parameter\n",
    ")\n",
    "\n",
    "# Create the linear OT problem\n",
    "ot_problem = LinearProblem(\n",
    "    geom=grid_geom,\n",
    "    a=a,\n",
    "    b=b\n",
    ")\n",
    "\n",
    "# Create and run the Sinkhorn solver\n",
    "solver = Sinkhorn(\n",
    "    threshold=1e-3,\n",
    "    max_iterations=1000,\n",
    "    lse_mode=True  # Use log-sum-exp mode for stability\n",
    ")\n",
    "\n",
    "# Solve the problem\n",
    "output = solver(ot_problem)\n",
    "\n",
    "# Extract the Brenier potential (dual potential f)\n",
    "brenier_potential = output.f\n",
    "\n",
    "print(f\"Brenier potential computed!\")\n",
    "print(f\"Shape: {brenier_potential.shape}\")\n",
    "print(f\"Converged: {output.converged}\")\n",
    "print(f\"Sinkhorn distance: {output.reg_ot_cost:.6f}\")"
   ]
  },
  {
   "cell_type": "code",
   "execution_count": 7,
   "id": "194028f8",
   "metadata": {},
   "outputs": [],
   "source": [
    "# --- Step 1: Define Your Operator (Modified) ---\n",
    "# CHANGED: Now accepts side_length as an argument.\n",
    "def T_star_operator(potential: jax.Array, side_length: int) -> jax.Array:\n",
    "    \"\"\"\n",
    "    Applies the T*_{F,p} operator to a potential field.\n",
    "    \"\"\"\n",
    "    # CHANGED: The calculation is removed from here.\n",
    "    potential_2d = potential.reshape((side_length, side_length))\n",
    "    \n",
    "    shifted_potential = jnp.roll(potential_2d, shift=1, axis=0)\n",
    "    operated_potential_2d = (potential_2d + shifted_potential) * 0.45\n",
    "    \n",
    "    return operated_potential_2d.flatten()\n",
    "\n",
    "\n",
    "# --- Step 2: Define the JIT-Compiled Computation Function (Modified) ---\n",
    "# CHANGED: Added side_length to the decorator and function signature.\n",
    "@functools.partial(jax.jit, static_argnames=['num_iterations', 'side_length'])\n",
    "def compute_auxiliary_potential(phi_F: jax.Array, num_iterations: int, side_length: int) -> jax.Array:\n",
    "    \"\"\"\n",
    "    Computes the auxiliary potential by summing the truncated power series.\n",
    "    \"\"\"\n",
    "    psi_F = jnp.zeros_like(phi_F)\n",
    "    current_term = phi_F\n",
    "    \n",
    "    for _ in range(num_iterations):\n",
    "        psi_F += current_term\n",
    "        # CHANGED: Pass side_length to the operator.\n",
    "        current_term = T_star_operator(current_term, side_length=side_length)\n",
    "        \n",
    "    return psi_F\n",
    "\n",
    "\n",
    "@functools.partial(jax.jit, static_argnames=['side_length'])\n",
    "def compute_gradient_field(potential_flat: jax.Array, side_length: int) -> jax.Array:\n",
    "    \"\"\"\n",
    "    Computes the gradient of a scalar field.\n",
    "\n",
    "    Args:\n",
    "        potential_flat: A flattened 1D array representing the scalar field.\n",
    "        side_length: The size of one side of the 2D grid.\n",
    "\n",
    "    Returns:\n",
    "        A JAX array of shape (2, side_length, side_length) representing the\n",
    "        gradient vector field, where [0,:,:] is the Y-derivative and\n",
    "        [1,:,:] is the X-derivative.\n",
    "    \"\"\"\n",
    "    # Step 1: Reshape the potential from flat to a 2D grid\n",
    "    potential_2d = potential_flat.reshape((side_length, side_length))\n",
    "\n",
    "    # Step 2: Compute the gradient using the built-in JAX function\n",
    "    # This returns a list of 2 arrays: [gradient_along_axis_0, gradient_along_axis_1]\n",
    "    # For a 2D image/grid, axis 0 is the Y-direction and axis 1 is the X-direction.\n",
    "    grad_y, grad_x = jnp.gradient(potential_2d)\n",
    "\n",
    "    # Step 3: Stack the two components into a single vector field array\n",
    "    # The shape will be (2, 1024, 1024)\n",
    "    gradient_field = jnp.stack([grad_y, grad_x], axis=0)\n",
    "    \n",
    "    return gradient_field"
   ]
  },
  {
   "cell_type": "code",
   "execution_count": 8,
   "id": "edcb9511",
   "metadata": {},
   "outputs": [
    {
     "name": "stdout",
     "output_type": "stream",
     "text": [
      "JAX is running on: NVIDIA GeForce RTX 2070 SUPER\n",
      "Calculated side_length: 1024\n",
      "\n",
      "Compiling and running the function...\n",
      "Computation complete.\n",
      "Shape of output potential: (1048576,)\n"
     ]
    }
   ],
   "source": [
    "# --- Step 3: Example Usage (Modified) ---\n",
    "\n",
    "print(f\"JAX is running on: {jax.devices()[0].device_kind}\")\n",
    "\n",
    "grid_size = 1024\n",
    "key = jax.random.PRNGKey(0)\n",
    "phi_F = jax.random.normal(key, (grid_size * grid_size,))\n",
    "\n",
    "K = 20 \n",
    "\n",
    "# CHANGED: Calculate side_length ONCE, here in plain Python.\n",
    "# int() is fine here because we are not inside a JIT context.\n",
    "side_length = int(phi_F.shape[0]**0.5)\n",
    "print(f\"Calculated side_length: {side_length}\")\n",
    "\n",
    "print(\"\\nCompiling and running the function...\")\n",
    "# CHANGED: Pass the pre-calculated side_length to the function.\n",
    "auxiliary_potential = compute_auxiliary_potential(phi_F, num_iterations=K, side_length=side_length)\n",
    "\n",
    "auxiliary_potential.block_until_ready()\n",
    "print(\"Computation complete.\")\n",
    "print(f\"Shape of output potential: {auxiliary_potential.shape}\")"
   ]
  },
  {
   "cell_type": "code",
   "execution_count": 9,
   "id": "5dda8a1f",
   "metadata": {},
   "outputs": [
    {
     "name": "stdout",
     "output_type": "stream",
     "text": [
      "Compiling and running the gradient computation...\n",
      "Computation complete.\n",
      "Shape of the input potential (flat): (1048576,)\n",
      "Shape of the output gradient field: (2, 1024, 1024)\n",
      "\n",
      "The output shape (2, 1024, 1024) represents:\n",
      "  - Gradient Y-component shape: (1024, 1024)\n",
      "  - Gradient X-component shape: (1024, 1024)\n"
     ]
    }
   ],
   "source": [
    "# --- Example Usage ---\n",
    "\n",
    "# Compute the gradient vector field\n",
    "print(\"Compiling and running the gradient computation...\")\n",
    "grad_vector_field = compute_gradient_field(auxiliary_potential, side_length=grid_size)\n",
    "\n",
    "# Block until the computation is finished on the GPU to see the result\n",
    "grad_vector_field.block_until_ready()\n",
    "\n",
    "print(\"Computation complete.\")\n",
    "print(f\"Shape of the input potential (flat): {auxiliary_potential.shape}\")\n",
    "print(f\"Shape of the output gradient field: {grad_vector_field.shape}\")\n",
    "print(\"\\nThe output shape (2, 1024, 1024) represents:\")\n",
    "print(f\"  - Gradient Y-component shape: {grad_vector_field[0].shape}\")\n",
    "print(f\"  - Gradient X-component shape: {grad_vector_field[1].shape}\")"
   ]
  },
  {
   "cell_type": "code",
   "execution_count": null,
   "id": "929d09cb",
   "metadata": {},
   "outputs": [],
   "source": [
    "def IFSGrad(p, F, mu_F, psi):\n",
    "    "
   ]
  }
 ],
 "metadata": {
  "kernelspec": {
   "display_name": ".venv (3.12.3)",
   "language": "python",
   "name": "python3"
  },
  "language_info": {
   "codemirror_mode": {
    "name": "ipython",
    "version": 3
   },
   "file_extension": ".py",
   "mimetype": "text/x-python",
   "name": "python",
   "nbconvert_exporter": "python",
   "pygments_lexer": "ipython3",
   "version": "3.12.3"
  }
 },
 "nbformat": 4,
 "nbformat_minor": 5
}
